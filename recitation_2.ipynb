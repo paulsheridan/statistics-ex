{
 "cells": [
  {
   "cell_type": "markdown",
   "metadata": {},
   "source": [
    "## Objective: Determine whatever the assignment says and do that"
   ]
  },
  {
   "cell_type": "markdown",
   "metadata": {},
   "source": [
    "#### Data Analysis"
   ]
  },
  {
   "cell_type": "code",
   "execution_count": 231,
   "metadata": {
    "collapsed": false
   },
   "outputs": [],
   "source": [
    "import pandas\n",
    "import numpy\n",
    "import csv\n",
    "from sklearn.cross_validation import train_test_split\n",
    "from sklearn.cluster import KMeans\n",
    "from pprint import pprint\n",
    "\n",
    "MY_TITANIC_TRAIN ='./sample_data/train.csv'\n",
    "MY_TITANIC_TEST = './sample_data/test.csv'\n",
    "df = pandas.read_csv(MY_TITANIC_TRAIN)"
   ]
  },
  {
   "cell_type": "code",
   "execution_count": 232,
   "metadata": {
    "collapsed": false
   },
   "outputs": [
    {
     "name": "stdout",
     "output_type": "stream",
     "text": [
      "\n",
      "342\n"
     ]
    }
   ],
   "source": [
    "survivors = sum(df.Survived)\n",
    "print()\n",
    "print(survivors)"
   ]
  },
  {
   "cell_type": "markdown",
   "metadata": {},
   "source": [
    "#### Selection of Features"
   ]
  },
  {
   "cell_type": "code",
   "execution_count": 233,
   "metadata": {
    "collapsed": false
   },
   "outputs": [],
   "source": [
    "df.drop(['Name', 'Ticket', 'Cabin', 'Embarked', 'Sex'], axis=1, inplace=True)\n",
    "df['Age'].fillna(df['Age'].mean(), inplace=True)"
   ]
  },
  {
   "cell_type": "code",
   "execution_count": 234,
   "metadata": {
    "collapsed": false
   },
   "outputs": [],
   "source": [
    "dd = df[['Pclass', 'Parch']]"
   ]
  },
  {
   "cell_type": "markdown",
   "metadata": {},
   "source": [
    "#### Representation"
   ]
  },
  {
   "cell_type": "code",
   "execution_count": 235,
   "metadata": {
    "collapsed": false
   },
   "outputs": [],
   "source": [
    "k = 2\n",
    "train, test = train_test_split(df, test_size = 0.2)\n",
    "train_dd, test_dd = train_test_split(dd, test_size = 0.2)\n",
    "y = train['Survived']\n",
    "X = train[2:]\n",
    "kmeans = KMeans(n_clusters=k)"
   ]
  },
  {
   "cell_type": "markdown",
   "metadata": {},
   "source": [
    "#### Experiment"
   ]
  },
  {
   "cell_type": "code",
   "execution_count": 236,
   "metadata": {
    "collapsed": false
   },
   "outputs": [
    {
     "name": "stdout",
     "output_type": "stream",
     "text": [
      "Survived  354\n",
      "Age  356\n",
      "Pclass  356\n",
      "SibSp  354\n",
      "Parch  354\n",
      "Fare  356\n"
     ]
    }
   ],
   "source": [
    "x = train['Survived']\n",
    "results = kmeans.fit_predict(X.values)\n",
    "print('Survived ', numpy.count_nonzero(results))\n",
    "x = train['Age']\n",
    "results = kmeans.fit_predict(X.values)\n",
    "print('Age ', numpy.count_nonzero(results))\n",
    "x = train['Pclass']\n",
    "results = kmeans.fit_predict(X.values)\n",
    "print('Pclass ', numpy.count_nonzero(results))\n",
    "x = train['SibSp']\n",
    "results = kmeans.fit_predict(X.values)\n",
    "print('SibSp ', numpy.count_nonzero(results))\n",
    "x = train['Parch']\n",
    "results = kmeans.fit_predict(X.values)\n",
    "print('Parch ', numpy.count_nonzero(results))\n",
    "x = train['Fare']\n",
    "results = kmeans.fit_predict(X.values)\n",
    "print('Fare ', numpy.count_nonzero(results))"
   ]
  },
  {
   "cell_type": "code",
   "execution_count": 237,
   "metadata": {
    "collapsed": false
   },
   "outputs": [
    {
     "name": "stdout",
     "output_type": "stream",
     "text": [
      "395\n"
     ]
    }
   ],
   "source": [
    "X = train_dd\n",
    "results = kmeans.fit_predict(X.values)\n",
    "print(numpy.count_nonzero(results))\n"
   ]
  },
  {
   "cell_type": "code",
   "execution_count": 238,
   "metadata": {
    "collapsed": false
   },
   "outputs": [
    {
     "name": "stdout",
     "output_type": "stream",
     "text": [
      "283\n",
      "429\n"
     ]
    }
   ],
   "source": [
    "print(sum(train['Survived']))\n",
    "print(len(train['Survived']) - sum(train['Survived']))"
   ]
  },
  {
   "cell_type": "code",
   "execution_count": 239,
   "metadata": {
    "collapsed": false
   },
   "outputs": [],
   "source": [
    "# predictions = open('predictions_kmeans.csv', 'w')\n",
    "# file = csv.writer(predictions)\n",
    "# file.writerow([\"PassengerId\",\"Survived\"])\n",
    "# for row in titanic_dataframe.iterrows():\n",
    "#     output = \n",
    "#     file.writerow(output)\n",
    "# predictions.close()"
   ]
  },
  {
   "cell_type": "code",
   "execution_count": null,
   "metadata": {
    "collapsed": true
   },
   "outputs": [],
   "source": []
  }
 ],
 "metadata": {
  "kernelspec": {
   "display_name": "Python 3",
   "language": "python",
   "name": "python3"
  },
  "language_info": {
   "codemirror_mode": {
    "name": "ipython",
    "version": 3
   },
   "file_extension": ".py",
   "mimetype": "text/x-python",
   "name": "python",
   "nbconvert_exporter": "python",
   "pygments_lexer": "ipython3",
   "version": "3.5.1"
  }
 },
 "nbformat": 4,
 "nbformat_minor": 0
}
