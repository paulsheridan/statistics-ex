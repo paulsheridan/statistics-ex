{
 "cells": [
  {
   "cell_type": "markdown",
   "metadata": {},
   "source": [
    "## Univariate and Multivariate Modeling and best fit - BASEBALL"
   ]
  },
  {
   "cell_type": "markdown",
   "metadata": {},
   "source": [
    "### Create univariate linear regression to predict player salary"
   ]
  },
  {
   "cell_type": "code",
   "execution_count": null,
   "metadata": {
    "collapsed": false
   },
   "outputs": [],
   "source": [
    "import pandas as pd\n",
    "import numpy as np\n",
    "# from scipy.stats import \n",
    "import matplotlib.pyplot as plt\n",
    "from sklearn import linear_model\n",
    "\n",
    "PLAYER_SALARY = './baseball_data/Salaries.csv'\n",
    "BATTING_STUFF = './baseball_data/Batting.csv'\n",
    "batting = pd.read_csv(BATTING_STUFF, sep=',')\n",
    "salary = pd.read_csv(PLAYER_SALARY, sep=',')\n",
    "salary_list = np.array(salary['salary'])\n",
    "home_runs_list = np.array(batting['HR'])\n",
    "year_list = np.array(salary['yearID'])\n"
   ]
  },
  {
   "cell_type": "code",
   "execution_count": null,
   "metadata": {
    "collapsed": false
   },
   "outputs": [],
   "source": [
    "%matplotlib inline\n",
    "salary.head(1), batting.head(1)\n",
    "\n",
    "total_salaries = salary.groupby([\"playerID\"])[\"salary\"].sum()\n",
    "total_hrs = batting.groupby([\"playerID\"])[\"HR\"].sum()\n",
    "\n",
    "all_stats = pd.concat((total_hrs, total_salaries), axis=1)\n",
    "all_stats.dropna(inplace = True)\n",
    "\n",
    "\n",
    "plt.figure(figsize=(12, 4))\n",
    "plt.scatter(all_stats.HR, all_stats.salary, edgecolor=\"None\",\n",
    "            s=5, c='k', alpha=0.2)\n",
    "plt.yscale(\"log\")\n",
    "plt.xlabel(\"Home Runs\", fontsize=12); plt.ylabel(\"Salary\", fontsize=12)\n",
    "plt.minorticks_on()\n",
    "plt.xlim(-50)\n",
    "\n",
    "xvals = np.array(all_stats.HR)[:, np.newaxis]\n",
    "yvals = np.array(all_stats.salary)\n",
    "regressor = linear_model.LinearRegression()\n",
    "regressor.fit(xvals, yvals)\n",
    "plt.scatter(xvals, regressor.predict(xvals), s= .5, color = 'orange')\n",
    "\n",
    "plt.show()\n",
    "all_stats[all_stats.HR == 0].count()"
   ]
  },
  {
   "cell_type": "code",
   "execution_count": null,
   "metadata": {
    "collapsed": false
   },
   "outputs": [],
   "source": [
    "from sklearn import cross_validation as cv\n",
    "output = cv.KFold(len(all_stats), 10)\n",
    "\n",
    "slopes, intercepts = [], []\n",
    "\n",
    "for train_index, test_index in output:\n",
    "    x_train, x_test = xvals[train_index], xvals[test_index]\n",
    "    y_train, y_test = yvals[train_index], yvals[test_index]\n",
    "    regressor.fit(x_train, y_train)\n",
    "    slopes.append(regressor.coef_)\n",
    "    intercepts.append(regressor.intercept_)\n",
    "    \n",
    "slope = np.mean(slopes)\n",
    "intercept = np.mean(intercepts)\n",
    "\n",
    "# regressor.coef_ = slope\n",
    "# regressor.incept_ = intercept\n",
    "\n",
    "print(\"Our model is:\\n\\tSalary = {} x N_HRs + {}\".format(slope, intercept))"
   ]
  },
  {
   "cell_type": "markdown",
   "metadata": {},
   "source": [
    "### This for loop divides our data into 10 sub-sections and performs a linear regression on each.  It then returns the average of the slopes of the regressions as well as the average of the intercepts.  These averages will be the m and y-intercept of our model, which we have now generalized by sampling 10 sub-groups."
   ]
  },
  {
   "cell_type": "code",
   "execution_count": null,
   "metadata": {
    "collapsed": true
   },
   "outputs": [],
   "source": []
  }
 ],
 "metadata": {
  "kernelspec": {
   "display_name": "Python 3",
   "language": "python",
   "name": "python3"
  },
  "language_info": {
   "codemirror_mode": {
    "name": "ipython",
    "version": 3
   },
   "file_extension": ".py",
   "mimetype": "text/x-python",
   "name": "python",
   "nbconvert_exporter": "python",
   "pygments_lexer": "ipython3",
   "version": "3.5.1"
  }
 },
 "nbformat": 4,
 "nbformat_minor": 0
}
