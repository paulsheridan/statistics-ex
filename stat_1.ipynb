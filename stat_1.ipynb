{
 "cells": [
  {
   "cell_type": "markdown",
   "metadata": {},
   "source": [
    "# Am I a header?"
   ]
  },
  {
   "cell_type": "markdown",
   "metadata": {},
   "source": [
    "## Questions to answer:\n",
    "Tasks\n",
    "\n",
    "Describe the data.\n",
    "\n",
    "How big?\n",
    "\n",
    "What are the columns and what do they mean?\n",
    "What’s the average age of...\n",
    "any Titanic passenger\n",
    "a survivor\n",
    "a non-surviving first-class passenger\n",
    "Male survivors older than 30 from anywhere but Queenstown\n",
    "For the groups you chose, how far (in years) are the average ages from the median ages?\n",
    "What’s the most common...\n",
    "passenger class\n",
    "port of Embarkation\n",
    "number of siblings or spouses aboard for survivors\n",
    "Within what range of standard deviations from the mean (0-1, 1-2, 2-3) is the median ticket price? Is it above or below the mean?\n",
    "How much more expensive was the 90th percentile ticket than the 5th percentile ticket? Are they the same class?\n",
    "The highest average ticket price was paid by passengers from which port? Null ports don’t count\n",
    "Which port has passengers from the most similar passenger class?\n",
    "What fraction of surviving 1st-class males paid lower than the overall median ticket price?\n",
    "How much older/younger was the average surviving passenger with family members than the average non-surviving passenger without them?\n",
    "Display the relationship (i.e. make a plot) between survival rate and the quantile of the ticket price for 20 integer quantiles.\n",
    "To be clearer, what I want is for you to specify 20 quantiles, and for each of those quantiles divide the number of survivors in that quantile by the total number of people in that quantile. That’ll give you the survival rate in that quantile.\n",
    "Then plot a line of the survival rate against the ticket fare quantiles.\n",
    "Make sure you label your axes.\n",
    "*STRETCH GOAL* For each of the following characteristics, find the median in the data.\n",
    "age\n",
    "ticket price\n",
    "siblings/spouses\n",
    "parents/children\n",
    "If you were to use these medians to draw numerical boundaries separating survivors from non-survivors, which of these characteristics would be the best choice and why?\n"
   ]
  }
 ],
 "metadata": {
  "kernelspec": {
   "display_name": "Python 3",
   "language": "python",
   "name": "python3"
  },
  "language_info": {
   "codemirror_mode": {
    "name": "ipython",
    "version": 3
   },
   "file_extension": ".py",
   "mimetype": "text/x-python",
   "name": "python",
   "nbconvert_exporter": "python",
   "pygments_lexer": "ipython3",
   "version": "3.5.1"
  }
 },
 "nbformat": 4,
 "nbformat_minor": 0
}
