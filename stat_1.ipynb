{
 "cells": [
  {
   "cell_type": "markdown",
   "metadata": {},
   "source": [
    "# Am I a header?"
   ]
  },
  {
   "cell_type": "markdown",
   "metadata": {},
   "source": [
    "## Questions to answer:\n",
    "Tasks\n",
    "\n",
    "Describe the data.\n",
    "\n",
    "How big?\n",
    "\n",
    "What are the columns and what do they mean?\n",
    "\n",
    "### What’s the average age of...\n",
    "\n",
    "    any Titanic passenger\n",
    "    a survivor\n",
    "    a non-surviving first-class passenger\n",
    "    Male survivors older than 30 from anywhere but Queenstown\n",
    "\n",
    "    For the groups you chose, how far (in years) are the average ages from the median ages?\n",
    "\n",
    "### What’s the most common...\n",
    "\n",
    "    passenger class\n",
    "    port of Embarkation\n",
    "    number of siblings or spouses aboard for survivors\n",
    "\n",
    "Within what range of standard deviations from the mean (0-1, 1-2, 2-3) is the median ticket price? Is it above or below the mean?\n",
    "\n",
    "How much more expensive was the 90th percentile ticket than the 5th percentile ticket? Are they the same class?\n",
    "\n",
    "The highest average ticket price was paid by passengers from which port? Null ports don’t count\n",
    "\n",
    "Which port has passengers from the most similar passenger class?\n",
    "\n",
    "What fraction of surviving 1st-class males paid lower than the overall median ticket price?\n",
    "\n",
    "How much older/younger was the average surviving passenger with family members than the average non-surviving passenger without them?\n",
    "\n",
    "Display the relationship (i.e. make a plot) between survival rate and the quantile of the ticket price for 20 integer quantiles.\n",
    "\n",
    "To be clearer, what I want is for you to specify 20 quantiles, and for each of those quantiles divide the number of survivors in that quantile by the total number of people in that quantile. That’ll give you the survival rate in that quantile.\n",
    "\n",
    "Then plot a line of the survival rate against the ticket fare quantiles.\n",
    "Make sure you label your axes.\n",
    "\n",
    "*STRETCH GOAL* For each of the following characteristics, find the median in the data.\n",
    "\n",
    "age\n",
    "ticket price\n",
    "siblings/spouses\n",
    "parents/children\n",
    "\n",
    "If you were to use these medians to draw numerical boundaries separating survivors from non-survivors, which of these characteristics would be the best choice and why?\n"
   ]
  },
  {
   "cell_type": "code",
   "execution_count": 76,
   "metadata": {
    "collapsed": false
   },
   "outputs": [
    {
     "name": "stdout",
     "output_type": "stream",
     "text": [
      "length: 891 \n"
     ]
    },
    {
     "data": {
      "text/html": [
       "<div>\n",
       "<table border=\"1\" class=\"dataframe\">\n",
       "  <thead>\n",
       "    <tr style=\"text-align: right;\">\n",
       "      <th></th>\n",
       "      <th>PassengerId</th>\n",
       "      <th>Survived</th>\n",
       "      <th>Pclass</th>\n",
       "      <th>Name</th>\n",
       "      <th>Sex</th>\n",
       "      <th>Age</th>\n",
       "      <th>SibSp</th>\n",
       "      <th>Parch</th>\n",
       "      <th>Ticket</th>\n",
       "      <th>Fare</th>\n",
       "      <th>Cabin</th>\n",
       "      <th>Embarked</th>\n",
       "    </tr>\n",
       "  </thead>\n",
       "  <tbody>\n",
       "    <tr>\n",
       "      <th>0</th>\n",
       "      <td>1</td>\n",
       "      <td>0</td>\n",
       "      <td>3</td>\n",
       "      <td>Braund, Mr. Owen Harris</td>\n",
       "      <td>male</td>\n",
       "      <td>22.0</td>\n",
       "      <td>1</td>\n",
       "      <td>0</td>\n",
       "      <td>A/5 21171</td>\n",
       "      <td>7.2500</td>\n",
       "      <td>NaN</td>\n",
       "      <td>S</td>\n",
       "    </tr>\n",
       "    <tr>\n",
       "      <th>1</th>\n",
       "      <td>2</td>\n",
       "      <td>1</td>\n",
       "      <td>1</td>\n",
       "      <td>Cumings, Mrs. John Bradley (Florence Briggs Th...</td>\n",
       "      <td>female</td>\n",
       "      <td>38.0</td>\n",
       "      <td>1</td>\n",
       "      <td>0</td>\n",
       "      <td>PC 17599</td>\n",
       "      <td>71.2833</td>\n",
       "      <td>C85</td>\n",
       "      <td>C</td>\n",
       "    </tr>\n",
       "  </tbody>\n",
       "</table>\n",
       "</div>"
      ],
      "text/plain": [
       "   PassengerId  Survived  Pclass  \\\n",
       "0            1         0       3   \n",
       "1            2         1       1   \n",
       "\n",
       "                                                Name     Sex   Age  SibSp  \\\n",
       "0                            Braund, Mr. Owen Harris    male  22.0      1   \n",
       "1  Cumings, Mrs. John Bradley (Florence Briggs Th...  female  38.0      1   \n",
       "\n",
       "   Parch     Ticket     Fare Cabin Embarked  \n",
       "0      0  A/5 21171   7.2500   NaN        S  \n",
       "1      0   PC 17599  71.2833   C85        C  "
      ]
     },
     "execution_count": 76,
     "metadata": {},
     "output_type": "execute_result"
    }
   ],
   "source": [
    "#getting data\n",
    "import pandas\n",
    "import numpy as np\n",
    "from sklearn import neighbors\n",
    "from sklearn.neighbors import DistanceMetric \n",
    "from pprint import pprint\n",
    "\n",
    "MY_TITANIC_TRAIN ='./sample_data/train.csv'\n",
    "MY_TITANIC_TEST = './sample_data/test.csv'\n",
    "titanic_dataframe = pandas.read_csv(MY_TITANIC_TRAIN)\n",
    "df = titanic_dataframe\n",
    "print('length: {0} '.format(len(titanic_dataframe)))\n",
    "titanic_dataframe.head(2)"
   ]
  },
  {
   "cell_type": "markdown",
   "metadata": {},
   "source": [
    "#### The data is 891 lines long"
   ]
  },
  {
   "cell_type": "code",
   "execution_count": 3,
   "metadata": {
    "collapsed": false,
    "scrolled": true
   },
   "outputs": [
    {
     "data": {
      "text/html": [
       "<div>\n",
       "<table border=\"1\" class=\"dataframe\">\n",
       "  <thead>\n",
       "    <tr style=\"text-align: right;\">\n",
       "      <th></th>\n",
       "      <th>PassengerId</th>\n",
       "      <th>Survived</th>\n",
       "      <th>Pclass</th>\n",
       "      <th>Age</th>\n",
       "      <th>SibSp</th>\n",
       "      <th>Parch</th>\n",
       "      <th>Fare</th>\n",
       "    </tr>\n",
       "  </thead>\n",
       "  <tbody>\n",
       "    <tr>\n",
       "      <th>count</th>\n",
       "      <td>891.000000</td>\n",
       "      <td>891.000000</td>\n",
       "      <td>891.000000</td>\n",
       "      <td>714.000000</td>\n",
       "      <td>891.000000</td>\n",
       "      <td>891.000000</td>\n",
       "      <td>891.000000</td>\n",
       "    </tr>\n",
       "    <tr>\n",
       "      <th>mean</th>\n",
       "      <td>446.000000</td>\n",
       "      <td>0.383838</td>\n",
       "      <td>2.308642</td>\n",
       "      <td>29.699118</td>\n",
       "      <td>0.523008</td>\n",
       "      <td>0.381594</td>\n",
       "      <td>32.204208</td>\n",
       "    </tr>\n",
       "    <tr>\n",
       "      <th>std</th>\n",
       "      <td>257.353842</td>\n",
       "      <td>0.486592</td>\n",
       "      <td>0.836071</td>\n",
       "      <td>14.526497</td>\n",
       "      <td>1.102743</td>\n",
       "      <td>0.806057</td>\n",
       "      <td>49.693429</td>\n",
       "    </tr>\n",
       "    <tr>\n",
       "      <th>min</th>\n",
       "      <td>1.000000</td>\n",
       "      <td>0.000000</td>\n",
       "      <td>1.000000</td>\n",
       "      <td>0.420000</td>\n",
       "      <td>0.000000</td>\n",
       "      <td>0.000000</td>\n",
       "      <td>0.000000</td>\n",
       "    </tr>\n",
       "    <tr>\n",
       "      <th>25%</th>\n",
       "      <td>223.500000</td>\n",
       "      <td>0.000000</td>\n",
       "      <td>2.000000</td>\n",
       "      <td>20.125000</td>\n",
       "      <td>0.000000</td>\n",
       "      <td>0.000000</td>\n",
       "      <td>7.910400</td>\n",
       "    </tr>\n",
       "    <tr>\n",
       "      <th>50%</th>\n",
       "      <td>446.000000</td>\n",
       "      <td>0.000000</td>\n",
       "      <td>3.000000</td>\n",
       "      <td>28.000000</td>\n",
       "      <td>0.000000</td>\n",
       "      <td>0.000000</td>\n",
       "      <td>14.454200</td>\n",
       "    </tr>\n",
       "    <tr>\n",
       "      <th>75%</th>\n",
       "      <td>668.500000</td>\n",
       "      <td>1.000000</td>\n",
       "      <td>3.000000</td>\n",
       "      <td>38.000000</td>\n",
       "      <td>1.000000</td>\n",
       "      <td>0.000000</td>\n",
       "      <td>31.000000</td>\n",
       "    </tr>\n",
       "    <tr>\n",
       "      <th>max</th>\n",
       "      <td>891.000000</td>\n",
       "      <td>1.000000</td>\n",
       "      <td>3.000000</td>\n",
       "      <td>80.000000</td>\n",
       "      <td>8.000000</td>\n",
       "      <td>6.000000</td>\n",
       "      <td>512.329200</td>\n",
       "    </tr>\n",
       "  </tbody>\n",
       "</table>\n",
       "</div>"
      ],
      "text/plain": [
       "       PassengerId    Survived      Pclass         Age       SibSp  \\\n",
       "count   891.000000  891.000000  891.000000  714.000000  891.000000   \n",
       "mean    446.000000    0.383838    2.308642   29.699118    0.523008   \n",
       "std     257.353842    0.486592    0.836071   14.526497    1.102743   \n",
       "min       1.000000    0.000000    1.000000    0.420000    0.000000   \n",
       "25%     223.500000    0.000000    2.000000   20.125000    0.000000   \n",
       "50%     446.000000    0.000000    3.000000   28.000000    0.000000   \n",
       "75%     668.500000    1.000000    3.000000   38.000000    1.000000   \n",
       "max     891.000000    1.000000    3.000000   80.000000    8.000000   \n",
       "\n",
       "            Parch        Fare  \n",
       "count  891.000000  891.000000  \n",
       "mean     0.381594   32.204208  \n",
       "std      0.806057   49.693429  \n",
       "min      0.000000    0.000000  \n",
       "25%      0.000000    7.910400  \n",
       "50%      0.000000   14.454200  \n",
       "75%      0.000000   31.000000  \n",
       "max      6.000000  512.329200  "
      ]
     },
     "execution_count": 3,
     "metadata": {},
     "output_type": "execute_result"
    }
   ],
   "source": [
    "titanic_dataframe.describe()\n"
   ]
  },
  {
   "cell_type": "markdown",
   "metadata": {},
   "source": [
    "#### The average age of a titanic passenger is 29.699118 years"
   ]
  },
  {
   "cell_type": "code",
   "execution_count": 5,
   "metadata": {
    "collapsed": false
   },
   "outputs": [],
   "source": [
    "survivors = titanic_dataframe[titanic_dataframe.Survived == 1]"
   ]
  },
  {
   "cell_type": "code",
   "execution_count": 7,
   "metadata": {
    "collapsed": false
   },
   "outputs": [
    {
     "data": {
      "text/plain": [
       "28.343689655172415"
      ]
     },
     "execution_count": 7,
     "metadata": {},
     "output_type": "execute_result"
    }
   ],
   "source": [
    "survivors.Age.mean()"
   ]
  },
  {
   "cell_type": "markdown",
   "metadata": {},
   "source": [
    "#### The average age of a survivor is 28.343689655172415 years."
   ]
  },
  {
   "cell_type": "code",
   "execution_count": 11,
   "metadata": {
    "collapsed": false
   },
   "outputs": [
    {
     "data": {
      "text/plain": [
       "43.6953125"
      ]
     },
     "execution_count": 11,
     "metadata": {},
     "output_type": "execute_result"
    }
   ],
   "source": [
    "first_dead = df[(df.Survived == 0) & (df.Pclass == 1)]\n",
    "first_dead.Age.mean()"
   ]
  },
  {
   "cell_type": "markdown",
   "metadata": {},
   "source": [
    "#### The average age of a dead person in first class is 43.6953125 years"
   ]
  },
  {
   "cell_type": "code",
   "execution_count": 16,
   "metadata": {
    "collapsed": false
   },
   "outputs": [
    {
     "data": {
      "text/plain": [
       "41.48780487804878"
      ]
     },
     "execution_count": 16,
     "metadata": {},
     "output_type": "execute_result"
    }
   ],
   "source": [
    "surviving_thirtyplus_guys_from_not_queensland = df[(df.Embarked != 'Q') & \n",
    "                                                   (df.Sex == 'male') & \n",
    "                                                   (df.Age > 30) & \n",
    "                                                   (df.Survived == 1)]\n",
    "surviving_thirtyplus_guys_from_not_queensland.Age.mean()"
   ]
  },
  {
   "cell_type": "markdown",
   "metadata": {},
   "source": [
    "#### The average age of a non-queenslander male and over 30 is 41.48780487804878"
   ]
  },
  {
   "cell_type": "code",
   "execution_count": 20,
   "metadata": {
    "collapsed": false
   },
   "outputs": [
    {
     "name": "stdout",
     "output_type": "stream",
     "text": [
      "0.34368965517241534 1.5546875 3.4878048780487774\n"
     ]
    }
   ],
   "source": [
    "diff_survivors = abs(survivors.Age.median() - survivors.Age.mean())\n",
    "diff_first_dead = abs(first_dead.Age.median() - first_dead.Age.mean())\n",
    "diff_not_queensland = abs(surviving_thirtyplus_guys_from_not_queensland.Age.median() - \n",
    "                          surviving_thirtyplus_guys_from_not_queensland.Age.mean())\n",
    "print(diff_survivors, diff_first_dead, diff_not_queensland)"
   ]
  },
  {
   "cell_type": "markdown",
   "metadata": {},
   "source": [
    "#### The distance from our groups' mean values to their median values is see above."
   ]
  },
  {
   "cell_type": "code",
   "execution_count": 27,
   "metadata": {
    "collapsed": false
   },
   "outputs": [
    {
     "name": "stdout",
     "output_type": "stream",
     "text": [
      "0    3\n",
      "dtype: int64\n",
      "0    S\n",
      "dtype: object\n",
      "0    0\n",
      "dtype: int64\n"
     ]
    }
   ],
   "source": [
    "print(df['Pclass'].mode())\n",
    "print(df['Embarked'].mode())\n",
    "print(survivors.SibSp.mode())"
   ]
  },
  {
   "cell_type": "code",
   "execution_count": 29,
   "metadata": {
    "collapsed": false
   },
   "outputs": [
    {
     "name": "stdout",
     "output_type": "stream",
     "text": [
      "49.693428597180905\n"
     ]
    }
   ],
   "source": [
    "farestd = df['Fare'].std()\n",
    "print(farestd)"
   ]
  },
  {
   "cell_type": "code",
   "execution_count": 33,
   "metadata": {
    "collapsed": false
   },
   "outputs": [
    {
     "name": "stdout",
     "output_type": "stream",
     "text": [
      "17.7500079685746\n",
      "0.3571902456652297\n"
     ]
    }
   ],
   "source": [
    "tick_diff = df['Fare'].mean() - df['Fare'].median()\n",
    "print(tick_diff)\n",
    "print(tick_diff / farestd)"
   ]
  },
  {
   "cell_type": "markdown",
   "metadata": {},
   "source": [
    "#### The median ticket price is .357 standard deviantions below the mean"
   ]
  },
  {
   "cell_type": "code",
   "execution_count": 44,
   "metadata": {
    "collapsed": false
   },
   "outputs": [
    {
     "name": "stdout",
     "output_type": "stream",
     "text": [
      "70.7333\n",
      "0    True\n",
      "dtype: bool\n"
     ]
    }
   ],
   "source": [
    "ninedth, fifth = df['Fare'].quantile(q = [.9, .05])\n",
    "quantdiff = ninedth - fifth\n",
    "print(quantdiff)\n",
    "print(df[df.Fare == fifth].Pclass.mode() != df[df.Fare == ninedth].Pclass.mode())\n"
   ]
  },
  {
   "cell_type": "markdown",
   "metadata": {},
   "source": [
    "#### The 90th percentile Fare is 70.7333 bucks larger than the 5th percentile.  They weren't of the same class."
   ]
  },
  {
   "cell_type": "code",
   "execution_count": 48,
   "metadata": {
    "collapsed": false
   },
   "outputs": [
    {
     "name": "stdout",
     "output_type": "stream",
     "text": [
      "('C', 59.95414404761905)\n"
     ]
    }
   ],
   "source": [
    "qavg = df[df.Embarked == 'Q'].Fare.mean()\n",
    "savg = df[df.Embarked == 'S'].Fare.mean()\n",
    "cavg = df[df.Embarked == 'C'].Fare.mean()\n",
    "lst = [('Q', qavg), ('S', savg), ('C', cavg)]\n",
    "print(max(lst, key=lambda x:x[1]))"
   ]
  },
  {
   "cell_type": "markdown",
   "metadata": {},
   "source": [
    "#### The highest mean ticket price was paid in 'C'.  It was 59.95414404761905."
   ]
  },
  {
   "cell_type": "code",
   "execution_count": 51,
   "metadata": {
    "collapsed": false
   },
   "outputs": [
    {
     "name": "stdout",
     "output_type": "stream",
     "text": [
      "c std: 0.944099832575668\n",
      "s std: 0.7894024365513868\n",
      "q std: 0.36927447293799803\n"
     ]
    }
   ],
   "source": [
    "cclassstd = df[df['Embarked'] == 'C'].Pclass.std()\n",
    "print('c std:', cclassstd)\n",
    "sclassstd = df[df['Embarked'] == 'S'].Pclass.std()\n",
    "print('s std:', sclassstd)\n",
    "qclassstd = df[df['Embarked'] == 'Q'].Pclass.std()\n",
    "print('q std:', qclassstd)"
   ]
  },
  {
   "cell_type": "markdown",
   "metadata": {},
   "source": [
    "#### Port 'Q' has the most similar classed passengers because the standard deviation of its class distribution is smallest."
   ]
  },
  {
   "cell_type": "code",
   "execution_count": 68,
   "metadata": {
    "collapsed": false
   },
   "outputs": [
    {
     "name": "stdout",
     "output_type": "stream",
     "text": [
      "14.4542\n",
      "26.2875\n",
      "0\n"
     ]
    },
    {
     "name": "stderr",
     "output_type": "stream",
     "text": [
      "/Users/patrick/anaconda3/envs/data-science/lib/python3.5/site-packages/ipykernel/__main__.py:2: UserWarning: Boolean Series key will be reindexed to match DataFrame index.\n",
      "  from ipykernel import kernelapp as app\n"
     ]
    }
   ],
   "source": [
    "#What fraction of surviving 1st-class males paid lower than the overall median ticket price?\n",
    "fancy_alive_men = survivors[(df.Sex == 'male') & (df.Pclass == 1)]\n",
    "median_fare = df.Fare.median()\n",
    "paid_less = fancy_alive_men[fancy_alive_men.Fare < median_fare]\n",
    "fancy_count = fancy_alive_men.Survived.count()\n",
    "paid_less_count = paid_less.Survived.count()\n",
    "answer_fraction = paid_less_count / fancy_count\n",
    "print(median_fare)\n",
    "print(fancy_alive_men.Fare.min())\n",
    "print(paid_less_count)"
   ]
  },
  {
   "cell_type": "markdown",
   "metadata": {},
   "source": [
    "#### None of the surviving men from class 1 paid less than the median ticket price.  The minimum ticket price for a surviving 1st class male passenger is 26.2875.  The median ticket price is 14.4542.  Also, when we take a subset of the fancy_men dataframe for blokes paying less than the median price, we get zero values."
   ]
  },
  {
   "cell_type": "code",
   "execution_count": 72,
   "metadata": {
    "collapsed": false
   },
   "outputs": [
    {
     "name": "stdout",
     "output_type": "stream",
     "text": [
      "6.285475961538459\n"
     ]
    }
   ],
   "source": [
    "avg_solo = df[(df.SibSp == 0) & (df.Parch == 0) & (df.Survived == 1)]\n",
    "avg_solo = avg_solo.Age.mean()\n",
    "\n",
    "avg_fam = df[((df.SibSp != 0) | (df.Parch != 0)) & (df.Survived == 1)]\n",
    "avg_fam = avg_fam.Age.mean()\n",
    "\n",
    "print(avg_solo - avg_fam)"
   ]
  },
  {
   "cell_type": "markdown",
   "metadata": {},
   "source": [
    "#### The average age of a surviving single person is 6.285 years older than a surviving family member."
   ]
  },
  {
   "cell_type": "code",
   "execution_count": 132,
   "metadata": {
    "collapsed": false
   },
   "outputs": [
    {
     "name": "stdout",
     "output_type": "stream",
     "text": [
      "[]\n"
     ]
    },
    {
     "data": {
      "image/png": "[encoded data removed]",
      "text/plain": [
       "<matplotlib.figure.Figure at 0x116ae4358>"
      ]
     },
     "metadata": {},
     "output_type": "display_data"
    }
   ],
   "source": [
    "import matplotlib.pyplot as plt\n",
    "%matplotlib inline\n",
    "alist = []\n",
    "survivor_rate = []\n",
    "# df[(df.Fare <= df.Fare.quantile(q=0.05)) & (df.Fare >= df.Fare.quantile(q=0))]\n",
    "\n",
    "for i in range(0, 20, 1):\n",
    "    cut = (df.Fare >= df.Fare.quantile(q=0.05*i)) & (df.Fare <= df.Fare.quantile(q=0.05*(i+1)))\n",
    "    folks_in_q = sum(cut)\n",
    "    survivors_in_q = sum(cut & (df.Survived == 1))\n",
    "    survivor_rate.append(survivors_in_q / folks_in_q)\n",
    "print(alist)\n",
    "\n",
    "\n",
    "plt.figure(figsize=(8, 8))\n",
    "plt.title('This is a graph')\n",
    "plt.plot(range(0, 100, 5), survivor_rate)\n",
    "plt.xlabel(\"quantiles\"); plt.ylabel(\"survival rate\")\n",
    "plt.show()\n",
    "\n",
    "\n",
    "# for i in alist:\n",
    "#     i = (i[i.Survived == 1].count() / i.count())\n",
    "#     print(i)\n",
    "# print(alist)\n",
    "\n",
    "#np_data = np.\n",
    "# print(dir(np))\n",
    "# H, edges = np.histogram(df, bins=20)\n",
    "# print(H)\n",
    "# print(edges)\n",
    "# some_data = np.random.normal(size=1000000)\n",
    "# H, edges = np.histogram(some_data, bins=100)\n",
    "\n",
    "# plt.figure(figsize=(10, 4))\n",
    "# plt.title('The \"Normal\" Distribution')\n",
    "# plt.plot(edges[:-1], H)\n",
    "# plt.xlim(-4, 4)\n",
    "# plt.xlabel(\"Some Measurement\"); plt.ylabel(\"Frequency of Measurement\")\n",
    "# plt.show()\n",
    "\n",
    "# df.plot(x = \"Age\", y = \"Fare\")\n"
   ]
  },
  {
   "cell_type": "code",
   "execution_count": 119,
   "metadata": {
    "collapsed": false
   },
   "outputs": [
    {
     "data": {
      "text/plain": [
       "array([ True, False, False, False, False, False, False], dtype=bool)"
      ]
     },
     "execution_count": 119,
     "metadata": {},
     "output_type": "execute_result"
    }
   ],
   "source": [
    "a = np.array([True, False, True, False, True, False, True])\n",
    "b = np.array([True, False, False, False, False, False, False])\n",
    "\n",
    "a & b"
   ]
  },
  {
   "cell_type": "code",
   "execution_count": null,
   "metadata": {
    "collapsed": true
   },
   "outputs": [],
   "source": []
  },
  {
   "cell_type": "code",
   "execution_count": null,
   "metadata": {
    "collapsed": true
   },
   "outputs": [],
   "source": []
  },
  {
   "cell_type": "code",
   "execution_count": null,
   "metadata": {
    "collapsed": true
   },
   "outputs": [],
   "source": []
  },
  {
   "cell_type": "code",
   "execution_count": null,
   "metadata": {
    "collapsed": true
   },
   "outputs": [],
   "source": []
  },
  {
   "cell_type": "code",
   "execution_count": null,
   "metadata": {
    "collapsed": true
   },
   "outputs": [],
   "source": []
  }
 ],
 "metadata": {
  "kernelspec": {
   "display_name": "Python 3",
   "language": "python",
   "name": "python3"
  },
  "language_info": {
   "codemirror_mode": {
    "name": "ipython",
    "version": 3
   },
   "file_extension": ".py",
   "mimetype": "text/x-python",
   "name": "python",
   "nbconvert_exporter": "python",
   "pygments_lexer": "ipython3",
   "version": "3.5.1"
  }
 },
 "nbformat": 4,
 "nbformat_minor": 0
}
