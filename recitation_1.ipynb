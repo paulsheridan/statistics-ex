{
 "cells": [
  {
   "cell_type": "markdown",
   "metadata": {},
   "source": [
    "#Titanic - Machine Learning from a Disaster\n"
   ]
  },
  {
   "cell_type": "code",
   "execution_count": 1,
   "metadata": {
    "collapsed": false
   },
   "outputs": [
    {
     "name": "stdout",
     "output_type": "stream",
     "text": [
      "length: 891 \n"
     ]
    },
    {
     "data": {
      "text/html": [
       "<div>\n",
       "<table border=\"1\" class=\"dataframe\">\n",
       "  <thead>\n",
       "    <tr style=\"text-align: right;\">\n",
       "      <th></th>\n",
       "      <th>PassengerId</th>\n",
       "      <th>Survived</th>\n",
       "      <th>Pclass</th>\n",
       "      <th>Name</th>\n",
       "      <th>Sex</th>\n",
       "      <th>Age</th>\n",
       "      <th>SibSp</th>\n",
       "      <th>Parch</th>\n",
       "      <th>Ticket</th>\n",
       "      <th>Fare</th>\n",
       "      <th>Cabin</th>\n",
       "      <th>Embarked</th>\n",
       "    </tr>\n",
       "  </thead>\n",
       "  <tbody>\n",
       "    <tr>\n",
       "      <th>0</th>\n",
       "      <td>1</td>\n",
       "      <td>0</td>\n",
       "      <td>3</td>\n",
       "      <td>Braund, Mr. Owen Harris</td>\n",
       "      <td>male</td>\n",
       "      <td>22.0</td>\n",
       "      <td>1</td>\n",
       "      <td>0</td>\n",
       "      <td>A/5 21171</td>\n",
       "      <td>7.2500</td>\n",
       "      <td>NaN</td>\n",
       "      <td>S</td>\n",
       "    </tr>\n",
       "    <tr>\n",
       "      <th>1</th>\n",
       "      <td>2</td>\n",
       "      <td>1</td>\n",
       "      <td>1</td>\n",
       "      <td>Cumings, Mrs. John Bradley (Florence Briggs Th...</td>\n",
       "      <td>female</td>\n",
       "      <td>38.0</td>\n",
       "      <td>1</td>\n",
       "      <td>0</td>\n",
       "      <td>PC 17599</td>\n",
       "      <td>71.2833</td>\n",
       "      <td>C85</td>\n",
       "      <td>C</td>\n",
       "    </tr>\n",
       "    <tr>\n",
       "      <th>2</th>\n",
       "      <td>3</td>\n",
       "      <td>1</td>\n",
       "      <td>3</td>\n",
       "      <td>Heikkinen, Miss. Laina</td>\n",
       "      <td>female</td>\n",
       "      <td>26.0</td>\n",
       "      <td>0</td>\n",
       "      <td>0</td>\n",
       "      <td>STON/O2. 3101282</td>\n",
       "      <td>7.9250</td>\n",
       "      <td>NaN</td>\n",
       "      <td>S</td>\n",
       "    </tr>\n",
       "    <tr>\n",
       "      <th>3</th>\n",
       "      <td>4</td>\n",
       "      <td>1</td>\n",
       "      <td>1</td>\n",
       "      <td>Futrelle, Mrs. Jacques Heath (Lily May Peel)</td>\n",
       "      <td>female</td>\n",
       "      <td>35.0</td>\n",
       "      <td>1</td>\n",
       "      <td>0</td>\n",
       "      <td>113803</td>\n",
       "      <td>53.1000</td>\n",
       "      <td>C123</td>\n",
       "      <td>S</td>\n",
       "    </tr>\n",
       "  </tbody>\n",
       "</table>\n",
       "</div>"
      ],
      "text/plain": [
       "   PassengerId  Survived  Pclass  \\\n",
       "0            1         0       3   \n",
       "1            2         1       1   \n",
       "2            3         1       3   \n",
       "3            4         1       1   \n",
       "\n",
       "                                                Name     Sex   Age  SibSp  \\\n",
       "0                            Braund, Mr. Owen Harris    male  22.0      1   \n",
       "1  Cumings, Mrs. John Bradley (Florence Briggs Th...  female  38.0      1   \n",
       "2                             Heikkinen, Miss. Laina  female  26.0      0   \n",
       "3       Futrelle, Mrs. Jacques Heath (Lily May Peel)  female  35.0      1   \n",
       "\n",
       "   Parch            Ticket     Fare Cabin Embarked  \n",
       "0      0         A/5 21171   7.2500   NaN        S  \n",
       "1      0          PC 17599  71.2833   C85        C  \n",
       "2      0  STON/O2. 3101282   7.9250   NaN        S  \n",
       "3      0            113803  53.1000  C123        S  "
      ]
     },
     "execution_count": 1,
     "metadata": {},
     "output_type": "execute_result"
    }
   ],
   "source": [
    "import pandas\n",
    "import numpy\n",
    "import csv\n",
    "import timeit\n",
    "from sklearn import neighbors\n",
    "from sklearn.neighbors import DistanceMetric \n",
    "from pprint import pprint\n",
    "from math import sqrt\n",
    "import operator\n",
    "\n",
    "MY_TITANIC_TRAIN ='./sample_data/train.csv'\n",
    "MY_TITANIC_TEST = './sample_data/test.csv'\n",
    "titanic_dataframe = pandas.read_csv(MY_TITANIC_TRAIN)\n",
    "titanic_test = pandas.read_csv(MY_TITANIC_TEST)\n",
    "print('length: {0} '.format(len(titanic_dataframe)))\n",
    "titanic_dataframe.head(4)\n",
    "# titanic_dataframe = titanic_dataframe.head(50)"
   ]
  },
  {
   "cell_type": "code",
   "execution_count": 2,
   "metadata": {
    "collapsed": false
   },
   "outputs": [],
   "source": [
    "ave_age_train = titanic_dataframe['Age'].mean()\n",
    "titanic_dataframe['Age'].fillna(ave_age_train, inplace=True)\n",
    "\n",
    "ave_age_test = titanic_test['Age'].mean()\n",
    "titanic_test['Age'].fillna(ave_age_test, inplace=True)\n",
    "\n",
    "# forward filling 'Embarked' data under the assumption that consecutive passengers got on at the same port.\n",
    "titanic_dataframe['Embarked'].fillna(method='ffill', inplace=True)\n",
    "titanic_test['Embarked'].fillna(method='ffill', inplace=True)"
   ]
  },
  {
   "cell_type": "markdown",
   "metadata": {},
   "source": [
    "We replaced the NA age values with the mean ages to complete data set."
   ]
  },
  {
   "cell_type": "code",
   "execution_count": 3,
   "metadata": {
    "collapsed": false
   },
   "outputs": [],
   "source": [
    "titanic_dataframe['Gender'] = titanic_dataframe['Sex'].map({'female': 0, 'male': 1}).astype(int)\n",
    "titanic_dataframe['Port'] = titanic_dataframe['Embarked'].map({'C':1, 'S':2, 'Q':3}).astype(int)\n",
    "titanic_test['Gender'] = titanic_test['Sex'].map({'female': 0, 'male': 1}).astype(int)\n",
    "titanic_test['Port'] = titanic_test['Embarked'].map({'C':1, 'S':2, 'Q':3}).astype(int)\n",
    "\n",
    "titanic_dataframe.drop(['Sex', 'Embarked', 'Name', 'Ticket', 'Cabin'], axis=1, inplace=True)\n",
    "titanic_test.drop(['Sex', 'Embarked', 'Name', 'Ticket', 'Cabin'], axis=1, inplace=True)"
   ]
  },
  {
   "cell_type": "code",
   "execution_count": 4,
   "metadata": {
    "collapsed": false
   },
   "outputs": [
    {
     "name": "stdout",
     "output_type": "stream",
     "text": [
      "(\"column_list: ['Survived', 'PassengerId', 'Pclass', 'Age', 'SibSp', 'Parch', \"\n",
      " \"'Fare', 'Gender', 'Port']\")\n",
      "   Pclass   Age  SibSp  Parch     Fare  Gender  Port\n",
      "0       3  22.0      1      0   7.2500       1     2\n",
      "1       1  38.0      1      0  71.2833       0     1\n"
     ]
    }
   ],
   "source": [
    "cols = titanic_dataframe.columns.tolist()\n",
    "cols = [cols[1]] + cols[0:1] + cols[2:]\n",
    "titanic_dataframe = titanic_dataframe[cols]\n",
    "\n",
    "train_data = titanic_dataframe[cols[2: ]]\n",
    "train_target = titanic_dataframe[cols[1]]\n",
    "\n",
    "pprint('column_list: {0}'.format(cols))\n",
    "print(train_data.head(2))"
   ]
  },
  {
   "cell_type": "code",
   "execution_count": 5,
   "metadata": {
    "collapsed": false,
    "scrolled": true
   },
   "outputs": [
    {
     "data": {
      "text/html": [
       "<div>\n",
       "<table border=\"1\" class=\"dataframe\">\n",
       "  <thead>\n",
       "    <tr style=\"text-align: right;\">\n",
       "      <th></th>\n",
       "      <th>Survived</th>\n",
       "      <th>PassengerId</th>\n",
       "      <th>Pclass</th>\n",
       "      <th>Age</th>\n",
       "      <th>SibSp</th>\n",
       "      <th>Parch</th>\n",
       "      <th>Fare</th>\n",
       "      <th>Gender</th>\n",
       "      <th>Port</th>\n",
       "    </tr>\n",
       "  </thead>\n",
       "  <tbody>\n",
       "    <tr>\n",
       "      <th>0</th>\n",
       "      <td>0</td>\n",
       "      <td>1</td>\n",
       "      <td>3</td>\n",
       "      <td>22.0</td>\n",
       "      <td>1</td>\n",
       "      <td>0</td>\n",
       "      <td>7.2500</td>\n",
       "      <td>1</td>\n",
       "      <td>2</td>\n",
       "    </tr>\n",
       "    <tr>\n",
       "      <th>1</th>\n",
       "      <td>1</td>\n",
       "      <td>2</td>\n",
       "      <td>1</td>\n",
       "      <td>38.0</td>\n",
       "      <td>1</td>\n",
       "      <td>0</td>\n",
       "      <td>71.2833</td>\n",
       "      <td>0</td>\n",
       "      <td>1</td>\n",
       "    </tr>\n",
       "    <tr>\n",
       "      <th>2</th>\n",
       "      <td>1</td>\n",
       "      <td>3</td>\n",
       "      <td>3</td>\n",
       "      <td>26.0</td>\n",
       "      <td>0</td>\n",
       "      <td>0</td>\n",
       "      <td>7.9250</td>\n",
       "      <td>0</td>\n",
       "      <td>2</td>\n",
       "    </tr>\n",
       "    <tr>\n",
       "      <th>3</th>\n",
       "      <td>1</td>\n",
       "      <td>4</td>\n",
       "      <td>1</td>\n",
       "      <td>35.0</td>\n",
       "      <td>1</td>\n",
       "      <td>0</td>\n",
       "      <td>53.1000</td>\n",
       "      <td>0</td>\n",
       "      <td>2</td>\n",
       "    </tr>\n",
       "    <tr>\n",
       "      <th>4</th>\n",
       "      <td>0</td>\n",
       "      <td>5</td>\n",
       "      <td>3</td>\n",
       "      <td>35.0</td>\n",
       "      <td>0</td>\n",
       "      <td>0</td>\n",
       "      <td>8.0500</td>\n",
       "      <td>1</td>\n",
       "      <td>2</td>\n",
       "    </tr>\n",
       "  </tbody>\n",
       "</table>\n",
       "</div>"
      ],
      "text/plain": [
       "   Survived  PassengerId  Pclass   Age  SibSp  Parch     Fare  Gender  Port\n",
       "0         0            1       3  22.0      1      0   7.2500       1     2\n",
       "1         1            2       1  38.0      1      0  71.2833       0     1\n",
       "2         1            3       3  26.0      0      0   7.9250       0     2\n",
       "3         1            4       1  35.0      1      0  53.1000       0     2\n",
       "4         0            5       3  35.0      0      0   8.0500       1     2"
      ]
     },
     "execution_count": 5,
     "metadata": {},
     "output_type": "execute_result"
    }
   ],
   "source": [
    "titanic_dataframe.head(5)"
   ]
  },
  {
   "cell_type": "code",
   "execution_count": 6,
   "metadata": {
    "collapsed": false
   },
   "outputs": [],
   "source": [
    "def hamming_distance(input_row, training_row):\n",
    "    distance = list(\n",
    "            1 if input_row[key] != training_row[key] else 0 for key in factors\n",
    "    )\n",
    "    return sum(distance)\n",
    "\n",
    "factors = [ 'Pclass', 'Port', 'Gender']\n",
    "hamming = DistanceMetric.get_metric('hamming')"
   ]
  },
  {
   "cell_type": "code",
   "execution_count": 7,
   "metadata": {
    "collapsed": false
   },
   "outputs": [],
   "source": [
    "def euclidian_distance(row, train_row):\n",
    "    distance = list((((row[key] - train_row[key])**2)/titanic_dataframe[key].max()) for key in numericals)\n",
    "#     print(sqrt(sum(distance)))\n",
    "    return sqrt(sum(distance))\n",
    "numericals = ['Age', 'SibSp', 'Parch', 'Fare']\n",
    "euclidian = DistanceMetric.get_metric('euclidean')\n"
   ]
  },
  {
   "cell_type": "code",
   "execution_count": null,
   "metadata": {
    "collapsed": false
   },
   "outputs": [],
   "source": [
    "def knn(input_row, train, k):\n",
    "    distance = []\n",
    "    for row in train.iterrows():\n",
    "        if row[0] != input_row[0]:\n",
    "        # that means row = tuple and i can get what i want by saying row[1]['Column Name']            \n",
    "            hamming = hamming_distance(input_row[1], row[1])\n",
    "            euclidian = euclidian_distance(input_row[1], row[1])\n",
    "            distance.append((hamming + euclidian, row[1]['Survived']))\n",
    "    distance.sort(key=operator.itemgetter(0))\n",
    "    out = distance[ :k]\n",
    "    return (input_row[1]['PassengerId'], 1 if sum(out[1]) > k//2 else 0)"
   ]
  },
  {
   "cell_type": "code",
   "execution_count": null,
   "metadata": {
    "collapsed": false
   },
   "outputs": [],
   "source": [
    "predictions = open('predictions.csv', 'w')\n",
    "file = csv.writer(predictions)\n",
    "file.writerow([\"PassengerId\",\"Survived\"])\n",
    "for row in titanic_test.iterrows():\n",
    "    output = knn(row, titanic_dataframe, 6)\n",
    "    file.writerow(output)\n",
    "predictions.close()"
   ]
  }
 ],
 "metadata": {
  "kernelspec": {
   "display_name": "Python 3",
   "language": "python",
   "name": "python3"
  },
  "language_info": {
   "codemirror_mode": {
    "name": "ipython",
    "version": 3
   },
   "file_extension": ".py",
   "mimetype": "text/x-python",
   "name": "python",
   "nbconvert_exporter": "python",
   "pygments_lexer": "ipython3",
   "version": "3.5.1"
  }
 },
 "nbformat": 4,
 "nbformat_minor": 0
}
