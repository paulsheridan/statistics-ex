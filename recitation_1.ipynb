{
 "cells": [
  {
   "cell_type": "markdown",
   "metadata": {},
   "source": [
    "#Titanic - Machine Learning from a Disaster\n"
   ]
  },
  {
   "cell_type": "code",
   "execution_count": null,
   "metadata": {
    "collapsed": false
   },
   "outputs": [],
   "source": [
    "import pandas\n",
    "import numpy\n",
    "from sklearn import neighbors\n",
    "from sklearn.neighbors import DistanceMetric \n",
    "from pprint import pprint\n",
    "\n",
    "MY_TITANIC_TRAIN ='./sample_data/train.csv'\n",
    "MY_TITANIC_TEST = './sample_data/test.csv'\n",
    "titanic_dataframe = pandas.read_csv(MY_TITANIC_TRAIN)\n",
    "print('length: {0} '.format(len(titanic_dataframe)))\n",
    "titanic_dataframe.head(2)\n",
    "\n",
    "\n",
    "\n",
    "\n"
   ]
  },
  {
   "cell_type": "code",
   "execution_count": null,
   "metadata": {
    "collapsed": false
   },
   "outputs": [],
   "source": [
    "ave_age = 29.699118\n",
    "titanic_dataframe['Age'].fillna(ave_age, inplace=True)\n",
    "\n",
    "\n",
    "\n"
   ]
  },
  {
   "cell_type": "markdown",
   "metadata": {},
   "source": [
    "We replaced the NA age values with the mean ages to complete data set."
   ]
  },
  {
   "cell_type": "code",
   "execution_count": null,
   "metadata": {
    "collapsed": false
   },
   "outputs": [],
   "source": [
    "titanic_dataframe = titanic_dataframe.dropna()\n",
    "\n",
    "titanic_dataframe['Sex'].unique()\n",
    "titanic_dataframe['Gender'] = titanic_dataframe['Sex'].map({'female': 0, 'male': 1}).astype(int)\n",
    "titanic_dataframe['Embarked'].unique()\n",
    "titanic_dataframe['Port'] = titanic_dataframe['Embarked'].map({'C':1, 'S':2, 'Q':3}).astype(int)\n",
    "\n",
    "titanic_dataframe.drop(['Sex', 'Embarked', 'Name', 'Ticket', 'Cabin'], axis=1, inplace=True)"
   ]
  },
  {
   "cell_type": "code",
   "execution_count": null,
   "metadata": {
    "collapsed": false
   },
   "outputs": [],
   "source": [
    "cols = titanic_dataframe.columns.tolist()\n",
    "cols = [cols[1]] + cols[0:1] + cols[2:]\n",
    "titanic_dataframe = titanic_dataframe[cols]\n",
    "\n",
    "train_data = titanic_dataframe[cols[2: ]]\n",
    "train_target = titanic_dataframe[cols[1]]\n",
    "\n",
    "pprint('column_list: {0}'.format(cols))\n",
    "print(train_data.head(2))"
   ]
  },
  {
   "cell_type": "code",
   "execution_count": null,
   "metadata": {
    "collapsed": false
   },
   "outputs": [],
   "source": [
    "titanic_dataframe.head(5)"
   ]
  },
  {
   "cell_type": "code",
   "execution_count": null,
   "metadata": {
    "collapsed": false
   },
   "outputs": [],
   "source": [
    "def hamming_distance(input_row, training_row):\n",
    "    distance = list(\n",
    "            # 1 if isinstance(input_row[i], str) & training_row[i] != input_row[i] else 0\n",
    "            1 if input_row[key] != training_row[key] else 0 for key in factors\n",
    "        # for i in range(len(input_row))\n",
    "    )\n",
    "    return sum(distance)\n",
    "\n",
    "factors = [ 'Pclass', 'Port', 'Gender']\n",
    "hamming = DistanceMetric.get_metric('hamming')"
   ]
  },
  {
   "cell_type": "code",
   "execution_count": null,
   "metadata": {
    "collapsed": true
   },
   "outputs": [],
   "source": [
    "for train_row in train:\n",
    "    hamming_distance(train_row)"
   ]
  },
  {
   "cell_type": "code",
   "execution_count": null,
   "metadata": {
    "collapsed": false
   },
   "outputs": [],
   "source": [
    "def euclidian_distance(row, train_row):\n",
    "    distance = list((row[key] - train_row[key])^2 for key in numericals)\n",
    "                     # for i in range(len(input_row)) if isnumeric(row[i]) & isnumeric(train_row[i])\n",
    "               # )\n",
    "    return sqrt(sum(distance))\n",
    "\n",
    "numericals = ['Age', 'SibSp', 'Parch', 'Fare']\n",
    "euclidian = DistanceMetric.get_metric('euclidean')"
   ]
  },
  {
   "cell_type": "code",
   "execution_count": null,
   "metadata": {
    "collapsed": false
   },
   "outputs": [],
   "source": [
    "def knn(input_row, train, k):\n",
    "    distance = []\n",
    "    # for train_row in train:\n",
    "    for row in train.iterrows():\n",
    "        # that means row = tuple and i can get what i want by saying row[1]['Column Name']            \n",
    "        hamming = hamming_distance(input_row[1], row[1])\n",
    "        euclidian = euclidian_distance(input_row[1], row[1])\n",
    "        distance.append(hamming + euclidian)\n",
    "    distance.sort(key=operator.itemgetter(0))\n",
    "    out = distance[ :k]\n",
    "    return (input_row[1]['id'], 1 if sum(out) > k//2 else 0)\n",
    "\n",
    "who_dies = []\n",
    "\n",
    "#\n",
    "    \n",
    "for row in titanic_dataframe.iterrows():\n",
    "   print(knn(row, titanic_dataframe, 10))\n",
    "# knn(titanic_dataframe.iterrows(), titanic_dataframe, 10)"
   ]
  },
  {
   "cell_type": "code",
   "execution_count": null,
   "metadata": {
    "collapsed": true
   },
   "outputs": [],
   "source": []
  },
  {
   "cell_type": "code",
   "execution_count": null,
   "metadata": {
    "collapsed": true
   },
   "outputs": [],
   "source": []
  }
 ],
 "metadata": {
  "kernelspec": {
   "display_name": "Python 3",
   "language": "python",
   "name": "python3"
  },
  "language_info": {
   "codemirror_mode": {
    "name": "ipython",
    "version": 3
   },
   "file_extension": ".py",
   "mimetype": "text/x-python",
   "name": "python",
   "nbconvert_exporter": "python",
   "pygments_lexer": "ipython3",
   "version": "3.5.1"
  }
 },
 "nbformat": 4,
 "nbformat_minor": 0
}
